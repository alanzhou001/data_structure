{
 "cells": [
  {
   "cell_type": "markdown",
   "metadata": {},
   "source": [
    "# 练习1\n",
    "\n",
    "编写一个程序，从键盘输入若干个字符按照顺序放入一个顺序表中，删除第1个结点并将它插入到顺序表的中间位置。\n",
    "样例：\n",
    "\n",
    "        number of the elements:\n",
    "        7\n",
    "        input the elements:\n",
    "        abcdefg\n",
    "        output the elements:\n",
    "        bcdaefg"
   ]
  },
  {
   "cell_type": "code",
   "execution_count": null,
   "metadata": {},
   "outputs": [
    {
     "name": "stdout",
     "output_type": "stream",
     "text": [
      "输出元素: bcdaefg\n"
     ]
    }
   ],
   "source": [
    "# 定义线性表类\n",
    "class LinearList:\n",
    "    def __init__(self):\n",
    "        self.elements = []\n",
    "\n",
    "    def __str__(self):\n",
    "        return ''.join(self.elements)\n",
    "\n",
    "if __name__ == \"__main__\":\n",
    "    # 创建线性表对象\n",
    "    my_list = LinearList()\n",
    "    \n",
    "    # 从键盘输入元素个数\n",
    "    num_elements = int(input(\"number of the elements:\"))\n",
    "    \n",
    "    # 从键盘输入元素，并依次插入到线性表中\n",
    "    elements = input(\"input the elements:\")\n",
    "    my_list.elements = list(elements)\n",
    "    \n",
    "    #TODO\n",
    "    \n",
    "    # 打印输出线性表中的元素\n",
    "    print(\"output the elements:\", my_list)"
   ]
  }
 ],
 "metadata": {
  "kernelspec": {
   "display_name": "base",
   "language": "python",
   "name": "python3"
  },
  "language_info": {
   "codemirror_mode": {
    "name": "ipython",
    "version": 3
   },
   "file_extension": ".py",
   "mimetype": "text/x-python",
   "name": "python",
   "nbconvert_exporter": "python",
   "pygments_lexer": "ipython3",
   "version": "3.8.16"
  },
  "orig_nbformat": 4
 },
 "nbformat": 4,
 "nbformat_minor": 2
}
